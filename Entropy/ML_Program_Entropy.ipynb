{
 "cells": [
  {
   "cell_type": "code",
   "execution_count": 1,
   "id": "75f8da13",
   "metadata": {},
   "outputs": [],
   "source": [
    "#Machine Learning Program To Entropy "
   ]
  },
  {
   "cell_type": "code",
   "execution_count": 1,
   "id": "94f43d22",
   "metadata": {},
   "outputs": [],
   "source": [
    "import pandas as pd # To data analysis and Manipulation\n",
    "import numpy as np # To carry out the arithmetic"
   ]
  },
  {
   "cell_type": "code",
   "execution_count": 2,
   "id": "3b697daa",
   "metadata": {},
   "outputs": [
    {
     "name": "stdout",
     "output_type": "stream",
     "text": [
      "30\n"
     ]
    }
   ],
   "source": [
    "data = pd.read_csv(\"samplecar.csv\")# importing the data from the csv file of Play_tennis.csv\n",
    "data\n",
    "print(data.size) # checking the size of the dataset"
   ]
  },
  {
   "cell_type": "code",
   "execution_count": 3,
   "id": "e56233d8",
   "metadata": {},
   "outputs": [
    {
     "name": "stdout",
     "output_type": "stream",
     "text": [
      "(10, 2) (10, 1)\n"
     ]
    }
   ],
   "source": [
    "#identifying the feature and targer variables\n",
    "features = data.iloc[:,:-1]\n",
    "target = data.iloc[:,-1:]\n",
    "print(features.shape,target.shape)"
   ]
  },
  {
   "cell_type": "code",
   "execution_count": 4,
   "id": "51f0590e",
   "metadata": {},
   "outputs": [
    {
     "name": "stdout",
     "output_type": "stream",
     "text": [
      "    Type Price\n",
      "0    SUV     H\n",
      "1     HB     H\n",
      "2     HB     H\n",
      "3     HB     L\n",
      "4  SEDAN     H\n",
      "5  SEDAN     L\n",
      "6    SUV     L\n",
      "7  SEDAN     H\n",
      "8     HB     L\n",
      "9    SUV     H\n"
     ]
    }
   ],
   "source": [
    "print(features)"
   ]
  },
  {
   "cell_type": "code",
   "execution_count": 5,
   "id": "5d92c68e",
   "metadata": {},
   "outputs": [
    {
     "name": "stdout",
     "output_type": "stream",
     "text": [
      "   Buy\n",
      "0   No\n",
      "1   No\n",
      "2  Yes\n",
      "3   No\n",
      "4  Yes\n",
      "5  Yes\n",
      "6   No\n",
      "7  Yes\n",
      "8  Yes\n",
      "9  Yes\n"
     ]
    }
   ],
   "source": [
    "print(target)"
   ]
  },
  {
   "cell_type": "code",
   "execution_count": 6,
   "id": "2a8fb595",
   "metadata": {},
   "outputs": [],
   "source": [
    "## sanity checking\n",
    "assert features.shape[0] == target.shape[0], \"len(features) == len(target)\""
   ]
  },
  {
   "cell_type": "markdown",
   "id": "56eaac56",
   "metadata": {},
   "source": [
    "# Find the Total Entropy for initial State,"
   ]
  },
  {
   "cell_type": "code",
   "execution_count": 7,
   "id": "4a779e7f",
   "metadata": {},
   "outputs": [
    {
     "name": "stdout",
     "output_type": "stream",
     "text": [
      "0.4 0.6\n"
     ]
    }
   ],
   "source": [
    "\n",
    "total = len(data)\n",
    "total_no = data[data['Buy'] == \"No\"].shape[0]\n",
    "total_yes = data[data['Buy']== \"Yes\"].shape[0]\n",
    "probability_no = total_no/total\n",
    "probability_yes = total_yes/total\n",
    "print(probability_no,probability_yes)"
   ]
  },
  {
   "cell_type": "code",
   "execution_count": 8,
   "id": "c267bbd1",
   "metadata": {},
   "outputs": [
    {
     "name": "stdout",
     "output_type": "stream",
     "text": [
      "0.9709505944546686\n"
     ]
    }
   ],
   "source": [
    "## entropy formula\n",
    "H_total = -probability_yes*np.log2(probability_yes)-probability_no*np.log2(probability_no)\n",
    "print(H_total)"
   ]
  },
  {
   "cell_type": "markdown",
   "id": "6c29bfe3",
   "metadata": {},
   "source": [
    "# Find Entropy for all the Attributes and combination"
   ]
  },
  {
   "cell_type": "markdown",
   "id": "aab8d43a",
   "metadata": {},
   "source": [
    "# 1.features car type"
   ]
  },
  {
   "cell_type": "code",
   "execution_count": 9,
   "id": "4ac31475",
   "metadata": {},
   "outputs": [
    {
     "data": {
      "text/plain": [
       "array(['SUV', 'HB', 'SEDAN'], dtype=object)"
      ]
     },
     "execution_count": 9,
     "metadata": {},
     "output_type": "execute_result"
    }
   ],
   "source": [
    "Type= data[\"Type\"].unique()\n",
    "Type"
   ]
  },
  {
   "cell_type": "code",
   "execution_count": 10,
   "id": "1298fda0",
   "metadata": {},
   "outputs": [],
   "source": [
    "#finding entropy of car type\n",
    "HB = data[data[\"Type\"]==\"HB\"]\n",
    "Total_HB = len(HB)\n",
    "Total_HB_yes = HB[HB[\"Buy\"]== \"Yes\"].shape[0]\n",
    "Total_HB_no = HB[HB[\"Buy\"]==\"No\"].shape[0]\n",
    "probability_HB_yes = Total_HB_yes/Total_HB\n",
    "probability_HB_no = Total_HB_no/Total_HB"
   ]
  },
  {
   "cell_type": "code",
   "execution_count": 11,
   "id": "247e856e",
   "metadata": {},
   "outputs": [
    {
     "name": "stdout",
     "output_type": "stream",
     "text": [
      "1.0\n"
     ]
    }
   ],
   "source": [
    "# entropy of Type HB\n",
    "H_Type_HB = -probability_HB_yes * np.log2(probability_HB_yes) - probability_HB_no * np.log2(probability_HB_no)\n",
    "print(H_Type_HB)\n"
   ]
  },
  {
   "cell_type": "code",
   "execution_count": 12,
   "id": "8a991301",
   "metadata": {},
   "outputs": [],
   "source": [
    "SEDAN = data[data[\"Type\"]==\"SEDAN\"]\n",
    "Total_SEDAN = len(SEDAN)\n",
    "Total_SEDAN_yes = SEDAN[SEDAN[\"Buy\"]== \"Yes\"].shape[0]\n",
    "Total_SEDAN_no = SEDAN[SEDAN[\"Buy\"]==\"No\"].shape[0]\n",
    "probability_SEDAN_yes = Total_SEDAN_yes/Total_SEDAN\n",
    "probability_SEDAN_no = Total_SEDAN_no/Total_SEDAN"
   ]
  },
  {
   "cell_type": "code",
   "execution_count": 13,
   "id": "31fc6f68",
   "metadata": {},
   "outputs": [
    {
     "name": "stdout",
     "output_type": "stream",
     "text": [
      "nan\n"
     ]
    },
    {
     "name": "stderr",
     "output_type": "stream",
     "text": [
      "c:\\users\\manish\\appdata\\local\\programs\\python\\python36\\lib\\site-packages\\ipykernel_launcher.py:2: RuntimeWarning: divide by zero encountered in log2\n",
      "  \n",
      "c:\\users\\manish\\appdata\\local\\programs\\python\\python36\\lib\\site-packages\\ipykernel_launcher.py:2: RuntimeWarning: invalid value encountered in double_scalars\n",
      "  \n"
     ]
    }
   ],
   "source": [
    "# entropy of Type SEDAN\n",
    "H_Type_SEDAN = -probability_SEDAN_yes * np.log2(probability_SEDAN_yes) - probability_SEDAN_no * np.log2(probability_SEDAN_no)\n",
    "print(H_Type_SEDAN)"
   ]
  },
  {
   "cell_type": "code",
   "execution_count": 14,
   "id": "d9d46643",
   "metadata": {},
   "outputs": [],
   "source": [
    "SUV = data[data[\"Type\"]==\"SUV\"]\n",
    "Total_SUV = len(SUV)\n",
    "Total_SUV_yes = SUV[SUV[\"Buy\"]== \"Yes\"].shape[0]\n",
    "Total_SUV_no = SUV[SUV[\"Buy\"]==\"No\"].shape[0]\n",
    "probability_SUV_yes = Total_SUV_yes/Total_SUV\n",
    "probability_SUV_no = Total_SUV_no/Total_SUV\n"
   ]
  },
  {
   "cell_type": "code",
   "execution_count": 15,
   "id": "e1ab1c6d",
   "metadata": {},
   "outputs": [
    {
     "name": "stdout",
     "output_type": "stream",
     "text": [
      "0.9182958340544896\n"
     ]
    }
   ],
   "source": [
    "# entropy of Type SUV\n",
    "H_Type_SUV = -probability_SUV_yes * np.log2(probability_SUV_yes) - probability_SUV_no * np.log2(probability_SUV_no)\n",
    "print(H_Type_SUV)"
   ]
  },
  {
   "cell_type": "markdown",
   "id": "61fb27bd",
   "metadata": {},
   "source": [
    "# 1.features price "
   ]
  },
  {
   "cell_type": "code",
   "execution_count": 16,
   "id": "8f35cc99",
   "metadata": {},
   "outputs": [
    {
     "data": {
      "text/plain": [
       "array(['H', 'L'], dtype=object)"
      ]
     },
     "execution_count": 16,
     "metadata": {},
     "output_type": "execute_result"
    }
   ],
   "source": [
    "Price= data[\"Price\"].unique()\n",
    "Price"
   ]
  },
  {
   "cell_type": "code",
   "execution_count": 17,
   "id": "c937dd3b",
   "metadata": {},
   "outputs": [],
   "source": [
    "H = data[data[\"Price\"]==\"H\"]\n",
    "Total_H = len(H)\n",
    "Total_H_yes = H[H[\"Buy\"]== \"Yes\"].shape[0]\n",
    "Total_H_no = H[H[\"Buy\"]==\"No\"].shape[0]\n",
    "probability_H_yes = Total_H_yes/Total_H\n",
    "probability_H_no = Total_H_no/Total_H"
   ]
  },
  {
   "cell_type": "code",
   "execution_count": 18,
   "id": "2c24a0f9",
   "metadata": {},
   "outputs": [
    {
     "name": "stdout",
     "output_type": "stream",
     "text": [
      "0.9182958340544896\n"
     ]
    }
   ],
   "source": [
    "#entropy of Price H\n",
    "H_Price_H = -probability_H_yes * np.log2(probability_H_yes) - probability_H_no * np.log2(probability_H_no)\n",
    "print(H_Price_H)"
   ]
  },
  {
   "cell_type": "code",
   "execution_count": 19,
   "id": "56163cc3",
   "metadata": {},
   "outputs": [],
   "source": [
    "L = data[data[\"Price\"]==\"L\"]\n",
    "Total_L = len(L)\n",
    "Total_L_yes = L[L[\"Buy\"]== \"Yes\"].shape[0]\n",
    "Total_L_no = L[L[\"Buy\"]==\"No\"].shape[0]\n",
    "probability_L_yes = Total_L_yes/Total_L\n",
    "probability_L_no = Total_L_no/Total_L"
   ]
  },
  {
   "cell_type": "code",
   "execution_count": 20,
   "id": "391096b7",
   "metadata": {},
   "outputs": [
    {
     "name": "stdout",
     "output_type": "stream",
     "text": [
      "1.0\n"
     ]
    }
   ],
   "source": [
    "# entropy of Price L\n",
    "H_Price_L = -probability_L_yes * np.log2(probability_L_yes) - probability_L_no * np.log2(probability_L_no)\n",
    "print(H_Price_L)"
   ]
  },
  {
   "cell_type": "markdown",
   "id": "763bab14",
   "metadata": {},
   "source": [
    "# Finding  Information Gain of the attribute"
   ]
  },
  {
   "cell_type": "markdown",
   "id": "fa02f426",
   "metadata": {},
   "source": [
    "# Information gain of car type features"
   ]
  },
  {
   "cell_type": "code",
   "execution_count": 21,
   "id": "9e3cbb90",
   "metadata": {},
   "outputs": [
    {
     "data": {
      "text/plain": [
       "0.29546184423832167"
      ]
     },
     "execution_count": 21,
     "metadata": {},
     "output_type": "execute_result"
    }
   ],
   "source": [
    "probability_SUV = Total_SUV/ total\n",
    "probability_SEDAN = Total_SEDAN/ total\n",
    "probability_HB = Total_HB / total\n",
    "I_Type = H_total- ((probability_SUV * H_Type_SUV)+ (probability_HB * H_Type_HB))\n",
    "I_Type"
   ]
  },
  {
   "cell_type": "markdown",
   "id": "eeb051a7",
   "metadata": {},
   "source": [
    "# Information gain of car price features"
   ]
  },
  {
   "cell_type": "code",
   "execution_count": 22,
   "id": "7c0aeece",
   "metadata": {},
   "outputs": [
    {
     "data": {
      "text/plain": [
       "0.01997309402197489"
      ]
     },
     "execution_count": 22,
     "metadata": {},
     "output_type": "execute_result"
    }
   ],
   "source": [
    "H_probability = Total_H / total\n",
    "L_probability = Total_L / total\n",
    "Info_gain_price = H_total - ((H_probability* H_Price_H) + (L_probability* H_Price_L))\n",
    "Info_gain_price"
   ]
  },
  {
   "cell_type": "markdown",
   "id": "ccba92b1",
   "metadata": {},
   "source": [
    "# Removing SEDAN from the data due to the value of nan when calculating the entropy Checking"
   ]
  },
  {
   "cell_type": "code",
   "execution_count": 23,
   "id": "8e4afb76",
   "metadata": {},
   "outputs": [
    {
     "name": "stdout",
     "output_type": "stream",
     "text": [
      "  Type Price  Buy\n",
      "0  SUV     H   No\n",
      "1   HB     H   No\n",
      "2   HB     H  Yes\n",
      "3   HB     L   No\n",
      "6  SUV     L   No\n",
      "8   HB     L  Yes\n",
      "9  SUV     H  Yes\n"
     ]
    }
   ],
   "source": [
    "new_data = data[data['Type']!='SEDAN']\n",
    "print(new_data)"
   ]
  },
  {
   "cell_type": "markdown",
   "id": "cff98fb3",
   "metadata": {},
   "source": [
    "# Find the Total Entropy for initial State of new_data"
   ]
  },
  {
   "cell_type": "code",
   "execution_count": 24,
   "id": "970a6dd2",
   "metadata": {},
   "outputs": [
    {
     "name": "stdout",
     "output_type": "stream",
     "text": [
      "0.5714285714285714 0.42857142857142855\n"
     ]
    }
   ],
   "source": [
    "total = len(new_data)\n",
    "total_no = new_data[new_data['Buy'] == \"No\"].shape[0]\n",
    "total_yes = new_data[new_data['Buy']== \"Yes\"].shape[0]\n",
    "probability_no = total_no/total\n",
    "probability_yes = total_yes/total\n",
    "print(probability_no,probability_yes)"
   ]
  },
  {
   "cell_type": "code",
   "execution_count": 25,
   "id": "938387af",
   "metadata": {},
   "outputs": [
    {
     "name": "stdout",
     "output_type": "stream",
     "text": [
      "0.9852281360342515\n"
     ]
    }
   ],
   "source": [
    "## entropy formula\n",
    "H_total = -probability_yes*np.log2(probability_yes)-probability_no*np.log2(probability_no)\n",
    "print(H_total)"
   ]
  },
  {
   "cell_type": "markdown",
   "id": "95a394f1",
   "metadata": {},
   "source": [
    "# Entropy of features"
   ]
  },
  {
   "cell_type": "markdown",
   "id": "8000da49",
   "metadata": {},
   "source": [
    "Car type"
   ]
  },
  {
   "cell_type": "code",
   "execution_count": 26,
   "id": "a985c4cc",
   "metadata": {},
   "outputs": [
    {
     "data": {
      "text/plain": [
       "array(['SUV', 'HB'], dtype=object)"
      ]
     },
     "execution_count": 26,
     "metadata": {},
     "output_type": "execute_result"
    }
   ],
   "source": [
    "Type= new_data[\"Type\"].unique()\n",
    "Type"
   ]
  },
  {
   "cell_type": "code",
   "execution_count": 27,
   "id": "08afc40b",
   "metadata": {},
   "outputs": [
    {
     "name": "stdout",
     "output_type": "stream",
     "text": [
      "0.9182958340544896\n"
     ]
    }
   ],
   "source": [
    "SUV = new_data[new_data[\"Type\"]==\"SUV\"]\n",
    "Total_SUV = len(SUV)\n",
    "Total_SUV_yes = SUV[SUV[\"Buy\"]== \"Yes\"].shape[0]\n",
    "Total_SUV_no = SUV[SUV[\"Buy\"]==\"No\"].shape[0]\n",
    "probability_SUV_yes = Total_SUV_yes/Total_SUV\n",
    "probability_SUV_no = Total_SUV_no/Total_SUV\n",
    "\n",
    "# entropy of Type SUV\n",
    "H_Type_SUV = -probability_SUV_yes * np.log2(probability_SUV_yes) - probability_SUV_no * np.log2(probability_SUV_no)\n",
    "print(H_Type_SUV)"
   ]
  },
  {
   "cell_type": "code",
   "execution_count": 28,
   "id": "7a90d47f",
   "metadata": {},
   "outputs": [
    {
     "name": "stdout",
     "output_type": "stream",
     "text": [
      "1.0\n"
     ]
    }
   ],
   "source": [
    "HB = new_data[new_data[\"Type\"]==\"HB\"]\n",
    "Total_HB = len(HB)\n",
    "Total_HB_yes = HB[HB[\"Buy\"]== \"Yes\"].shape[0]\n",
    "Total_HB_no = HB[HB[\"Buy\"]==\"No\"].shape[0]\n",
    "probability_HB_yes = Total_HB_yes/Total_HB\n",
    "probability_HB_no = Total_HB_no/Total_HB\n",
    "\n",
    "# entropy of Type HB\n",
    "H_Type_HB = -probability_HB_yes * np.log2(probability_HB_yes) - probability_HB_no * np.log2(probability_HB_no)\n",
    "print(H_Type_HB)"
   ]
  },
  {
   "cell_type": "markdown",
   "id": "2509fc10",
   "metadata": {},
   "source": [
    "# Information gain of the Type from the data after removing SEDAN car type"
   ]
  },
  {
   "cell_type": "code",
   "execution_count": 29,
   "id": "762487b4",
   "metadata": {},
   "outputs": [
    {
     "data": {
      "text/plain": [
       "0.020244207153756077"
      ]
     },
     "execution_count": 29,
     "metadata": {},
     "output_type": "execute_result"
    }
   ],
   "source": [
    "probability_SUV = Total_SUV/ total\n",
    "probability_SEDAN = Total_SEDAN/ total\n",
    "probability_HB = Total_HB / total\n",
    "I_Type = H_total- ((probability_SUV * H_Type_SUV)+ (probability_HB * H_Type_HB))\n",
    "I_Type"
   ]
  },
  {
   "cell_type": "code",
   "execution_count": null,
   "id": "8b64f52a",
   "metadata": {},
   "outputs": [],
   "source": []
  }
 ],
 "metadata": {
  "kernelspec": {
   "display_name": "Python 3",
   "language": "python",
   "name": "python3"
  },
  "language_info": {
   "codemirror_mode": {
    "name": "ipython",
    "version": 3
   },
   "file_extension": ".py",
   "mimetype": "text/x-python",
   "name": "python",
   "nbconvert_exporter": "python",
   "pygments_lexer": "ipython3",
   "version": "3.6.2"
  }
 },
 "nbformat": 4,
 "nbformat_minor": 5
}
